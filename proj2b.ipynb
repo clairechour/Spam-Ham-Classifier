{
 "cells": [
  {
   "cell_type": "code",
   "execution_count": 1,
   "metadata": {
    "deletable": false,
    "editable": false
   },
   "outputs": [
    {
     "name": "stdout",
     "output_type": "stream",
     "text": [
      "=====================================================================\n",
      "Assignment: proj2b\n",
      "OK, version v1.13.11\n",
      "=====================================================================\n",
      "\n"
     ]
    }
   ],
   "source": [
    "# Initialize OK\n",
    "from client.api.notebook import Notebook\n",
    "ok = Notebook('proj2b.ok')"
   ]
  },
  {
   "cell_type": "markdown",
   "metadata": {},
   "source": [
    "# Project 2 Part B: Spam/Ham Classification\n",
    "## Classifiers\n",
    "### The assignment is due on Monday, April 27th at 11:59pm PST.\n",
    "\n",
    "**Collaboration Policy**\n",
    "\n",
    "Data science is a collaborative activity. While you may talk with others about\n",
    "the project, we ask that you **write your solutions individually**. If you do\n",
    "discuss the assignments with others please **include their names** at the top\n",
    "of your notebook."
   ]
  },
  {
   "cell_type": "markdown",
   "metadata": {},
   "source": [
    "**Collaborators**: *list collaborators here*"
   ]
  },
  {
   "cell_type": "markdown",
   "metadata": {},
   "source": [
    "## This Assignment\n",
    "In Project 2 Part A, you made an effort to understand the data through EDA, and did some basic feature engineering. You also built a Logistic Regression model to classify Spam/Ham emails. In Part B, you will learn how to evaluate the classifiers you built. You will also have the chance to improve your model by selecting more features.\n",
    "\n",
    "## Warning\n",
    "We've tried our best to filter the data for anything blatantly offensive as best as we can, but unfortunately there may still be some examples you may find in poor taste. If you encounter these examples and believe it is inappropriate for students, please let a TA know and we will try to remove it for future semesters. Thanks for your understanding!\n",
    "\n",
    "## Score Breakdown\n",
    "Question | Points\n",
    "--- | ---\n",
    "6a | 1\n",
    "6b | 1\n",
    "6c | 2\n",
    "6d | 2\n",
    "6e | 1\n",
    "6f | 3\n",
    "7 | 6\n",
    "8 | 6\n",
    "9 | 15\n",
    "Total | 37"
   ]
  },
  {
   "cell_type": "markdown",
   "metadata": {},
   "source": [
    "## Setup"
   ]
  },
  {
   "cell_type": "code",
   "execution_count": 2,
   "metadata": {},
   "outputs": [],
   "source": [
    "import numpy as np\n",
    "import pandas as pd\n",
    "\n",
    "import matplotlib.pyplot as plt\n",
    "%matplotlib inline\n",
    "\n",
    "import seaborn as sns\n",
    "sns.set(style = \"whitegrid\", \n",
    "        color_codes = True,\n",
    "        font_scale = 1.5)"
   ]
  },
  {
   "cell_type": "code",
   "execution_count": 3,
   "metadata": {},
   "outputs": [
    {
     "name": "stdout",
     "output_type": "stream",
     "text": [
      "Using version already downloaded: Tue Apr 21 00:55:44 2020\n",
      "MD5 hash of file: 0380c4cf72746622947b9ca5db9b8be8\n",
      "Using version already downloaded: Tue Apr 21 00:55:45 2020\n",
      "MD5 hash of file: a2e7abd8c7d9abf6e6fafc1d1f9ee6bf\n"
     ]
    }
   ],
   "source": [
    "from utils import fetch_and_cache_gdrive\n",
    "fetch_and_cache_gdrive('1SCASpLZFKCp2zek-toR3xeKX3DZnBSyp', 'train.csv')\n",
    "fetch_and_cache_gdrive('1ZDFo9OTF96B5GP2Nzn8P8-AL7CTQXmC0', 'test.csv')\n",
    "\n",
    "original_training_data = pd.read_csv('data/train.csv')\n",
    "test = pd.read_csv('data/test.csv')\n",
    "\n",
    "# Convert the emails to lower case as a first step to processing the text\n",
    "original_training_data['email'] = original_training_data['email'].str.lower()\n",
    "test['email'] = test['email'].str.lower()\n",
    "\n",
    "original_training_data.head()\n",
    "\n",
    "from sklearn.model_selection import train_test_split\n",
    "\n",
    "train, val = train_test_split(original_training_data, test_size=0.1, random_state=42)"
   ]
  },
  {
   "cell_type": "markdown",
   "metadata": {},
   "source": [
    "The following code is adapted from Part A of this project. You will be using it again in Part B."
   ]
  },
  {
   "cell_type": "code",
   "execution_count": 4,
   "metadata": {},
   "outputs": [
    {
     "data": {
      "text/plain": [
       "(array([[0, 0, 0, 0, 0],\n",
       "        [0, 0, 0, 0, 0],\n",
       "        [0, 0, 0, 0, 0],\n",
       "        [0, 0, 0, 0, 0],\n",
       "        [0, 0, 0, 1, 0]]), array([0, 0, 0, 0, 0]))"
      ]
     },
     "execution_count": 4,
     "metadata": {},
     "output_type": "execute_result"
    }
   ],
   "source": [
    "def words_in_texts(words, texts):\n",
    "    '''\n",
    "    Args:\n",
    "        words (list-like): words to find\n",
    "        texts (Series): strings to search in\n",
    "    \n",
    "    Returns:\n",
    "        NumPy array of 0s and 1s with shape (n, p) where n is the\n",
    "        number of texts and p is the number of words.\n",
    "    '''\n",
    "    indicator_array = 1 * np.array([texts.str.contains(word) for word in words]).T\n",
    "    return indicator_array\n",
    "\n",
    "some_words = ['drug', 'bank', 'prescription', 'memo', 'private']\n",
    "\n",
    "X_train = words_in_texts(some_words, train['email']) \n",
    "Y_train = np.array(train['spam'])\n",
    "\n",
    "X_train[:5], Y_train[:5]"
   ]
  },
  {
   "cell_type": "markdown",
   "metadata": {},
   "source": [
    "Recall that you trained the following model in Part A."
   ]
  },
  {
   "cell_type": "code",
   "execution_count": 5,
   "metadata": {},
   "outputs": [
    {
     "name": "stdout",
     "output_type": "stream",
     "text": [
      "Training Accuracy:  0.7576201251164648\n"
     ]
    }
   ],
   "source": [
    "from sklearn.linear_model import LogisticRegression\n",
    "\n",
    "model =  LogisticRegression()\n",
    "model.fit(X_train, Y_train)\n",
    "\n",
    "training_accuracy = model.score(X_train, Y_train)\n",
    "print(\"Training Accuracy: \", training_accuracy)"
   ]
  },
  {
   "cell_type": "markdown",
   "metadata": {},
   "source": [
    "## Evaluating Classifiers"
   ]
  },
  {
   "cell_type": "markdown",
   "metadata": {},
   "source": [
    "The model you trained doesn't seem too shabby! But the classifier you made above isn't as good as this might lead us to believe. First, we are evaluating accuracy on the training set, which may provide a misleading accuracy measure, especially if we used the training set to identify discriminative features. In future parts of this analysis, it will be safer to hold out some of our data for model validation and comparison.\n",
    "\n",
    "Presumably, our classifier will be used for **filtering**, i.e. preventing messages labeled `spam` from reaching someone's inbox. There are two kinds of errors we can make:\n",
    "- False positive (FP): a ham email gets flagged as spam and filtered out of the inbox.\n",
    "- False negative (FN): a spam email gets mislabeled as ham and ends up in the inbox.\n",
    "\n",
    "These definitions depend both on the true labels and the predicted labels. False positives and false negatives may be of differing importance, leading us to consider more ways of evaluating a classifier, in addition to overall accuracy:\n",
    "\n",
    "**Precision** measures the proportion $\\frac{\\text{TP}}{\\text{TP} + \\text{FP}}$ of emails flagged as spam that are actually spam.\n",
    "\n",
    "**Recall** measures the proportion $\\frac{\\text{TP}}{\\text{TP} + \\text{FN}}$ of spam emails that were correctly flagged as spam. \n",
    "\n",
    "**False-alarm rate** measures the proportion $\\frac{\\text{FP}}{\\text{FP} + \\text{TN}}$ of ham emails that were incorrectly flagged as spam. \n",
    "\n",
    "The following image might help:\n",
    "\n",
    "<img src=\"https://upload.wikimedia.org/wikipedia/commons/thumb/2/26/Precisionrecall.svg/700px-Precisionrecall.svg.png\" width=\"500px\">\n",
    "\n",
    "Note that a true positive (TP) is a spam email that is classified as spam, and a true negative (TN) is a ham email that is classified as ham."
   ]
  },
  {
   "cell_type": "markdown",
   "metadata": {
    "deletable": false,
    "editable": false
   },
   "source": [
    "### Question 6a\n",
    "\n",
    "Suppose we have a classifier `zero_predictor` that always predicts 0 (never predicts positive). How many false positives and false negatives would this classifier have if it were evaluated on the training set and its results were compared to `Y_train`? Fill in the variables below (answers can be hard-coded):\n",
    "\n",
    "*Tests in Question 6 only check that you have assigned appropriate types of values to each response variable, but do not check that your answers are correct.*\n",
    "\n",
    "<!--\n",
    "BEGIN QUESTION\n",
    "name: q6a\n",
    "points: 1\n",
    "-->"
   ]
  },
  {
   "cell_type": "code",
   "execution_count": 6,
   "metadata": {},
   "outputs": [
    {
     "data": {
      "text/plain": [
       "(0, 1918)"
      ]
     },
     "execution_count": 6,
     "metadata": {},
     "output_type": "execute_result"
    }
   ],
   "source": [
    "zero_predictor_fp = 0 \n",
    "zero_predictor_fn = len(train[train[\"spam\"] == 1])\n",
    "zero_predictor_fp, zero_predictor_fn"
   ]
  },
  {
   "cell_type": "code",
   "execution_count": 7,
   "metadata": {
    "deletable": false,
    "editable": false
   },
   "outputs": [
    {
     "name": "stdout",
     "output_type": "stream",
     "text": [
      "~~~~~~~~~~~~~~~~~~~~~~~~~~~~~~~~~~~~~~~~~~~~~~~~~~~~~~~~~~~~~~~~~~~~~\n",
      "Running tests\n",
      "\n",
      "---------------------------------------------------------------------\n",
      "Test summary\n",
      "    Passed: 2\n",
      "    Failed: 0\n",
      "[ooooooooook] 100.0% passed\n",
      "\n"
     ]
    }
   ],
   "source": [
    "ok.grade(\"q6a\");"
   ]
  },
  {
   "cell_type": "markdown",
   "metadata": {
    "deletable": false,
    "editable": false
   },
   "source": [
    "### Question 6b\n",
    "\n",
    "What are the accuracy and recall of `zero_predictor` (classifies every email as ham) on the training set? Do **NOT** use any `sklearn` functions.\n",
    "\n",
    "<!--\n",
    "BEGIN QUESTION\n",
    "name: q6b\n",
    "points: 1\n",
    "-->"
   ]
  },
  {
   "cell_type": "code",
   "execution_count": 8,
   "metadata": {},
   "outputs": [
    {
     "data": {
      "text/plain": [
       "(0.7447091707706642, 0)"
      ]
     },
     "execution_count": 8,
     "metadata": {},
     "output_type": "execute_result"
    }
   ],
   "source": [
    "zero_predictor_acc = len(train[train[\"spam\"] == 0])/len(train)\n",
    "zero_predictor_recall = 0\n",
    "zero_predictor_acc, zero_predictor_recall"
   ]
  },
  {
   "cell_type": "code",
   "execution_count": 9,
   "metadata": {
    "deletable": false,
    "editable": false
   },
   "outputs": [
    {
     "name": "stdout",
     "output_type": "stream",
     "text": [
      "~~~~~~~~~~~~~~~~~~~~~~~~~~~~~~~~~~~~~~~~~~~~~~~~~~~~~~~~~~~~~~~~~~~~~\n",
      "Running tests\n",
      "\n",
      "---------------------------------------------------------------------\n",
      "Test summary\n",
      "    Passed: 2\n",
      "    Failed: 0\n",
      "[ooooooooook] 100.0% passed\n",
      "\n"
     ]
    }
   ],
   "source": [
    "ok.grade(\"q6b\");"
   ]
  },
  {
   "cell_type": "markdown",
   "metadata": {
    "deletable": false,
    "editable": false
   },
   "source": [
    "### Question 6c\n",
    "\n",
    "Provide brief explanations of the results from 6a and 6b. Explain why the number of false positives, number of false negatives, accuracy, and recall all turned out the way they did.\n",
    "\n",
    "<!--\n",
    "BEGIN QUESTION\n",
    "name: q6c\n",
    "manual: True\n",
    "points: 2\n",
    "-->\n",
    "<!-- EXPORT TO PDF -->"
   ]
  },
  {
   "cell_type": "markdown",
   "metadata": {},
   "source": [
    "1. 6a: False positive will be 0 since the zero_predictor always predicts 0 and not positive. Therefore, zero_predictor won't ever predict true positive so the false negative is equal to the sum of spams.\n",
    "6b: The zero_predictor accuracy is equal to the average of the number of hams (over total number of emails). Recall is equal to 0 because no positives are predicted.\n",
    "2. -false positives: FP=0 since there are no labels of spam.\n",
    "-number of false negatives: FN=1918. This number is equal to the number of spam emails from the training data, as all spam emails are incorrectly labeled as ham emails.\n",
    "-accuracy: The classifier is able to accurately label 74.47% of observations from the training data.\n",
    "-recall: The classifier recalls none, or 0%, of the observations of spam."
   ]
  },
  {
   "cell_type": "markdown",
   "metadata": {
    "deletable": false,
    "editable": false
   },
   "source": [
    "### Question 6d\n",
    "\n",
    "Compute the precision, recall, and false-alarm rate of the `LogisticRegression` classifier created and trained in Part A. Do **NOT** use any `sklearn` functions.\n",
    "\n",
    "**Note: In lecture we used the `sklearn` package to compute the rates. Here you should work through them using just the definitions to help build a deeper understanding.**\n",
    "\n",
    "<!--\n",
    "BEGIN QUESTION\n",
    "name: q6d\n",
    "points: 2\n",
    "-->"
   ]
  },
  {
   "cell_type": "code",
   "execution_count": 10,
   "metadata": {},
   "outputs": [
    {
     "name": "stdout",
     "output_type": "stream",
     "text": [
      "0.6422287390029325\n",
      "0.11418143899895725\n",
      "0.021805183199285077\n",
      "219\n",
      "5473\n",
      "1699\n",
      "122\n"
     ]
    }
   ],
   "source": [
    "Y_train_hat = model.predict(X_train)\n",
    "FP = sum((Y_train_hat == 1) & (Y_train_hat != Y_train))\n",
    "FN = sum((Y_train_hat == 0) & (Y_train_hat != Y_train))\n",
    "TP = sum((Y_train_hat == 1) & (Y_train_hat == Y_train))\n",
    "TN = sum((Y_train_hat == 0) & (Y_train_hat == Y_train))\n",
    "logistic_predictor_precision = TP / (TP + FP)\n",
    "logistic_predictor_recall = TP / (TP + FN)\n",
    "logistic_predictor_far = FP / (FP + TN)\n",
    "print(logistic_predictor_precision)\n",
    "print(logistic_predictor_recall)\n",
    "print(logistic_predictor_far)\n",
    "print(TP)\n",
    "print(TN)\n",
    "print(FN)\n",
    "print(FP)"
   ]
  },
  {
   "cell_type": "code",
   "execution_count": 11,
   "metadata": {
    "deletable": false,
    "editable": false
   },
   "outputs": [
    {
     "name": "stdout",
     "output_type": "stream",
     "text": [
      "~~~~~~~~~~~~~~~~~~~~~~~~~~~~~~~~~~~~~~~~~~~~~~~~~~~~~~~~~~~~~~~~~~~~~\n",
      "Running tests\n",
      "\n",
      "---------------------------------------------------------------------\n",
      "Test summary\n",
      "    Passed: 3\n",
      "    Failed: 0\n",
      "[ooooooooook] 100.0% passed\n",
      "\n"
     ]
    }
   ],
   "source": [
    "ok.grade(\"q6d\");"
   ]
  },
  {
   "cell_type": "markdown",
   "metadata": {
    "deletable": false,
    "editable": false
   },
   "source": [
    "### Question 6e\n",
    "\n",
    "Are there more false positives or false negatives when using the logistic regression classifier from Part A?\n",
    "\n",
    "<!--\n",
    "BEGIN QUESTION\n",
    "name: q6e\n",
    "manual: True\n",
    "points: 1\n",
    "-->\n",
    "<!-- EXPORT TO PDF -->"
   ]
  },
  {
   "cell_type": "markdown",
   "metadata": {},
   "source": [
    "There are more false negatives than false positives. FN=1699, while FP=122, and 1699 > 122."
   ]
  },
  {
   "cell_type": "markdown",
   "metadata": {
    "deletable": false,
    "editable": false
   },
   "source": [
    "### Question 6f\n",
    "\n",
    "1. Our logistic regression classifier got 75.8% prediction accuracy (number of correct predictions / total). How does this compare with predicting 0 for every email?\n",
    "1. Given the word features we gave you above, name one reason this classifier is performing poorly. Hint: Think about how prevalent these words are in the email set.\n",
    "1. Which of these two classifiers would you prefer for a spam filter and why? Describe your reasoning and relate it to at least one of the evaluation metrics you have computed so far.\n",
    "\n",
    "<!--\n",
    "BEGIN QUESTION\n",
    "name: q6f\n",
    "manual: True\n",
    "points: 3\n",
    "-->\n",
    "<!-- EXPORT TO PDF -->"
   ]
  },
  {
   "cell_type": "markdown",
   "metadata": {},
   "source": [
    "1. This compares with predicting 0 for every email because 74.47% means that we are only doing a bit better than guessing that all the emails are classified as ham. Nevertheless, our logistic regression classifier is better since 74.47% is less than 75.8%.\n",
    "2. This classifer is performing poorly because there are too many 0's in X_train, which means that the words chosen are not in most of the emails. This is because these words can be super prevalent, as not every word is commonly utilized in an email. Therefore, the classifier is unable to actually use those words to differentiate spam or ham emails.\n",
    "3. I would prefer the logistic regression classifier for a spam filter. This is because it would have a higher prediction accuracy and the recall metric of the zero predictor is 0."
   ]
  },
  {
   "cell_type": "markdown",
   "metadata": {},
   "source": [
    "## Moving Forward\n",
    "\n",
    "With this in mind, it is now your task to make the spam filter more accurate. In order to get full credit on the accuracy part of this assignment, you must get at least **88%** accuracy on the test set. To see your accuracy on the test set, you will use your classifier to predict every email in the `test` DataFrame and upload your predictions to Kaggle.\n",
    "\n",
    "**Kaggle limits you to four submissions per day**. This means you should start early so you have time if needed to refine your model. You will be able to see your accuracy on the entire set when submitting to Kaggle (the accuracy that will determine your score for question 9).\n",
    "\n",
    "Here are some ideas for improving your model:\n",
    "\n",
    "1. Finding better features based on the email text. Some example features are:\n",
    "    1. Number of characters in the subject / body\n",
    "    1. Number of words in the subject / body\n",
    "    1. Use of punctuation (e.g., how many '!' were there?)\n",
    "    1. Number / percentage of capital letters \n",
    "    1. Whether the email is a reply to an earlier email or a forwarded email\n",
    "1. Finding better (and/or more) words to use as features. Which words are the best at distinguishing emails? This requires digging into the email text itself. \n",
    "1. Better data processing. For example, many emails contain HTML as well as text. You can consider extracting out the text from the HTML to help you find better words. Or, you can match HTML tags themselves, or even some combination of the two.\n",
    "1. Model selection. You can adjust parameters of your model (e.g. the regularization parameter) to achieve higher accuracy. Recall that you should use cross-validation to do feature and model selection properly! Otherwise, you will likely overfit to your training data.\n",
    "\n",
    "You may use whatever method you prefer in order to create features, but **you are not allowed to import any external feature extraction libraries**. In addition, **you are only allowed to train logistic regression models**. No random forests, k-nearest-neighbors, neural nets, etc.\n",
    "\n",
    "We have not provided any code to do this, so feel free to create as many cells as you need in order to tackle this task. However, answering questions 7, 8, and 9 should help guide you.\n",
    "\n",
    "---\n",
    "\n",
    "**Note:** *You should use the **validation data** to evaluate your model and get a better sense of how it will perform on the Kaggle evaluation.*\n",
    "\n",
    "---"
   ]
  },
  {
   "cell_type": "code",
   "execution_count": 12,
   "metadata": {},
   "outputs": [
    {
     "data": {
      "text/plain": [
       "Text(0.5, 0, 'Total number of punctuations')"
      ]
     },
     "execution_count": 12,
     "metadata": {},
     "output_type": "execute_result"
    },
    {
     "data": {
      "image/png": "[encoded data removed]",
      "text/plain": [
       "<Figure size 432x288 with 1 Axes>"
      ]
     },
     "metadata": {
      "needs_background": "light"
     },
     "output_type": "display_data"
    }
   ],
   "source": [
    "# Count number of punctuations in emails\n",
    "\n",
    "def non_charactor(x):\n",
    "    aregex = '[^a-zA-Z0-9]'\n",
    "    sregex = '\\w+'\n",
    "    num_words = x['email'].str.findall(aregex).str.len()\n",
    "    num_space = x['email'].str.findall(sregex).str.len()\n",
    "    return num_words / num_space\n",
    "\n",
    "ham = train[train['spam'] == 0]\n",
    "spam = train[train['spam'] == 1]\n",
    "\n",
    "h_punc = non_charactor(ham)\n",
    "s_punc = non_charactor(spam)\n",
    "\n",
    "sns.distplot(h_punc, label = 'ham', hist=False)\n",
    "sns.distplot(s_punc, label = 'spam', hist=False)\n",
    "\n",
    "plt.xlabel('Total number of punctuations')"
   ]
  },
  {
   "cell_type": "code",
   "execution_count": 13,
   "metadata": {},
   "outputs": [
    {
     "data": {
      "text/plain": [
       "Text(0.5, 0, 'Number of capital letters')"
      ]
     },
     "execution_count": 13,
     "metadata": {},
     "output_type": "execute_result"
    },
    {
     "data": {
      "image/png": "[encoded data removed]",
      "text/plain": [
       "<Figure size 432x288 with 1 Axes>"
      ]
     },
     "metadata": {
      "needs_background": "light"
     },
     "output_type": "display_data"
    }
   ],
   "source": [
    "# Number of capital letters in subject\n",
    "\n",
    "def find_cap_length(df):\n",
    "    reg = r'[A-Z]'\n",
    "    return ((df['subject'].str.findall(reg).str.len()) / df['subject'].str.len()).fillna(0)\n",
    "\n",
    "h_cap = find_cap_length(ham) \n",
    "s_cap = find_cap_length(spam) \n",
    "\n",
    "sns.distplot(h_cap, label = 'ham', hist=False)\n",
    "sns.distplot(s_cap, label = 'spam', hist=False)\n",
    "plt.xlabel('Number of capital letters')"
   ]
  },
  {
   "cell_type": "code",
   "execution_count": 14,
   "metadata": {},
   "outputs": [
    {
     "data": {
      "text/plain": [
       "Text(0.5, 0, 'Number of non-capital letters')"
      ]
     },
     "execution_count": 14,
     "metadata": {},
     "output_type": "execute_result"
    },
    {
     "data": {
      "image/png": "[encoded data removed]",
      "text/plain": [
       "<Figure size 432x288 with 1 Axes>"
      ]
     },
     "metadata": {
      "needs_background": "light"
     },
     "output_type": "display_data"
    }
   ],
   "source": [
    "# Number of non-capital letters\n",
    "\n",
    "def find_noncap_length(df):\n",
    "    reg = r'[a-z]'\n",
    "    return ((df['email'].str.findall(reg).str.len()) / df['email'].str.len()).fillna(0)\n",
    "\n",
    "h_cap = find_noncap_length(ham) \n",
    "s_cap = find_noncap_length(spam) \n",
    "\n",
    "sns.distplot(h_cap, label = 'ham', hist=False)\n",
    "sns.distplot(s_cap, label = 'spam', hist=False)\n",
    "plt.xlabel('Number of non-capital letters')"
   ]
  },
  {
   "cell_type": "code",
   "execution_count": 15,
   "metadata": {},
   "outputs": [
    {
     "name": "stdout",
     "output_type": "stream",
     "text": [
      "6.470281543274244\n",
      "2.0875781948168006\n"
     ]
    },
    {
     "data": {
      "image/png": "[encoded data removed]",
      "text/plain": [
       "<Figure size 432x288 with 1 Axes>"
      ]
     },
     "metadata": {
      "needs_background": "light"
     },
     "output_type": "display_data"
    }
   ],
   "source": [
    "# Number of times '!' is used\n",
    "\n",
    "def num_punct(df):\n",
    "    return df['email'].str.findall('!').str.len().fillna(0)\n",
    "\n",
    "ham_punct = num_punct(ham)\n",
    "spam_punct = num_punct(spam)\n",
    "\n",
    "sns.distplot(ham_punct, label = 'ham', hist=False)\n",
    "sns.distplot(spam_punct, label = 'spam', hist=False)\n",
    "\n",
    "plt.xlabel('Number of ! used')\n",
    "\n",
    "plt.xlim(-5, 30)\n",
    "\n",
    "print(spam_punct.sum() / len(spam['email']))\n",
    "print(ham_punct.sum() / len(ham['email']))"
   ]
  },
  {
   "cell_type": "code",
   "execution_count": 16,
   "metadata": {},
   "outputs": [
    {
     "name": "stderr",
     "output_type": "stream",
     "text": [
      "/srv/conda/envs/data100/lib/python3.7/site-packages/sklearn/linear_model/_logistic.py:940: ConvergenceWarning: lbfgs failed to converge (status=1):\n",
      "STOP: TOTAL NO. of ITERATIONS REACHED LIMIT.\n",
      "\n",
      "Increase the number of iterations (max_iter) or scale the data as shown in:\n",
      "    https://scikit-learn.org/stable/modules/preprocessing.html\n",
      "Please also refer to the documentation for alternative solver options:\n",
      "    https://scikit-learn.org/stable/modules/linear_model.html#logistic-regression\n",
      "  extra_warning_msg=_LOGISTIC_SOLVER_CONVERGENCE_MSG)\n"
     ]
    },
    {
     "name": "stdout",
     "output_type": "stream",
     "text": [
      "0.9608678290962333\n",
      "0.9437125748502994\n"
     ]
    }
   ],
   "source": [
    "# After doing some research, I compiled a list of common spam words:\n",
    "# https://www.simplycast.com/blog/100-top-email-spam-trigger-words-and-phrases-to-avoid/#post\n",
    "# https://www.automational.com/spam-trigger-words-to-avoid/\n",
    "# https://blog.hubspot.com/blog/tabid/6307/bid/30684/the-ultimate-list-of-email-spam-trigger-words.aspx\n",
    "\n",
    "my_words = ['#1', '$$$', '100%', 'act now', 'affordable', 'action', 'cancel', 'apply now', 'online pharmacy',\n",
    "            'billing', 'avoid', 'boss', 'cancel', 'cash', 'bonus', 'casino', 'certified', 'priority mail',\n",
    "            'cheap', 'click here', 'clearance', 'buy', 'congratulations', 'collect', 'print out and fax',\n",
    "            'credit card', 'freedom', 'expire', 'extra', 'debt', 'free access', 'great', 'outstanding', 'deals',\n",
    "           'guarantee', 'friend', 'income', 'junk', 'offer', 'only', 'now', 'rates', 'no selling', 'removal',\n",
    "            'refinance', 'refund', 'remove', 'request', 'risk-free', 'satisfaction', 'score', 'important', 'brand new',\n",
    "            'success', 'terms', 'supplies', 'spam', 'please', 'promise', 'presently', 'purchase', 'amazing',\n",
    "            'quote', 'serious', 'win', 'urgent', 'winner', 'unlimited', 'terms', 'traffic', 'free leads', 'easy money',\n",
    "           'while supplies last', 'save', 'url', '50% off', 'ad', 'all new','bargain', 'best price', 'no catch',\n",
    "            'bonus', 'brand new pager', 'cost', 'discount', 'do not delete', 'email harvest', 'bill 1618',\n",
    "            'for free','free trial', 'give it away', 'internet market', 'incredible deal', 'cancel at any time',\n",
    "           'insurance', 'luxury', 'mortgage', 'name brand', 'outstanding values','please read', 'double', 'vitality',\n",
    "            'sample', 'stuff on sale', 'the best rates', 'sale','click', 'accept', 'accordingly', 'collect',\n",
    "            'as seen on', 'avoid', 'check','click below', 'direct email', 'do it today', 'form', 'good', 'boost sales',\n",
    "            'free instant','investment', 'life insurance', 'lifetime', 'never', 'now', 'order', 'all new', '0%',\n",
    "           'pennies a day', 'per day', 'phone', 'print form signature', 'quote','regarding', 'join', 'low', '99.9%',\n",
    "            'save up to', 'sign up free today', 'take action', 'call','get it now', 'once in a lifetime', 'no costs',\n",
    "            'this will not last', 'time limited','while supplies last', '4u', 'access', 'avoid bankruptcy', \n",
    "            'bulk email','cures', 'dormant', 'free info', 'free membership', 'get out of debt','hello', 'lower fees',\n",
    "            'join millions', 'no age restrictions', 'no inventory', 'opportunity', 'save big money', 'extra cash',\n",
    "            'see for yourself', 'you are a winner!','all natural', 'big bucks', 'billion dollars', 'earn', \n",
    "            'home', 'lose', 'home employment', 'lose weight', 'make money', 'no cost', 'no fees', 'stop', \n",
    "           'vacation', 'weight', 'serious cash', 'remove wrinkles', 'address', 'copy accurately', 'hidden',\n",
    "           'shopper', 'order status', 'clearance', 'meet singles', 'double your', 'make $', 'online degree',\n",
    "           'ear per week', 'extra income', 'potential earnings', 'while you sleep', 'claims', 'bargain',\n",
    "           'cashcashcash', 'cents on the dollar', 'compare rates', 'hidden assets', 'only $', 'US dollars',\n",
    "           'subject to credit', 'price', 'full refund', 'stock alert', 'sent in compliance', 'get paid', \n",
    "           'consolidate your debt', 'social security number', 'pre-approved', 'chance', 'here', 'leave', \n",
    "           'maintained', 'passwords', 'reverses', 'teen', 'wife', 'dear', 'notspam', 'open', 'opt in', 'bargain hunter',\n",
    "           'performance', 'the following form', 'search engine listings', 'visit our website', 'unsubscribe',\n",
    "           'will not believe your eyes', 'diagnostics', 'medicine', 'no medical exams', 'viagra', 'thousands'\n",
    "           '100% more', 'additional income', 'best price', 'expect to earn', 'be your own boss', 'fast cash',\n",
    "           'financial freedom', 'free access', 'free consultation', 'free hosting', 'free money', 'giveaway',\n",
    "           'free preview', 'increase sales', 'lower rates', 'million dollars', 'miracle', 'one time', 'prize',\n",
    "           'pure profit', 'call now', 'get it now', 'become a member', 'exclusive deal', 'get started now',\n",
    "           'important information regarding', 'instant', 'limited time', 'new customers only', 'please read',\n",
    "           'you have been selected', 'confidentiality', 'hidden charges', 'internet marketing', 'mass email',\n",
    "           'no gimmick', 'no purchase necessary', 'undisclosed', 'unsolicited', 'valium', 'vicodin', 'xanax',\n",
    "           'all new', 'beneficiary', 'cheap', 'fantastic', 'score', 'terms and conditions', 'warranty', 'best',\n",
    "           'amazed', 'auto email removal', 'beverage', 'cable converter', 'celebrity', 'collect child support',\n",
    "           'compete for your business', 'do it today', 'easy terms', 'expect to', 'free cell phone', 'loan',\n",
    "           'message contains', 'new customers only', 'no obligation', 'rolex', 'sex', 'score with babes', \n",
    "           'warrant', 'talks about prizes', 'they keep your money', 'the best rates', 'no strings attached',\n",
    "           'drastically reduced', 'get it now', 'special promotion', 'this will not last', 'please read', 'do',\n",
    "           'eliminate', 'reverses aging', 'what do you have to lose', 'fast delivery', 'nigerian', 'friendly',\n",
    "           'apply', 'buy now', 'click me to download', 'click this link', 'click to remove', 'call free',\n",
    "           'claim now', 'contact us immediately', 'get now', 'sign up', 'shop now', 'order now', 'accounts',\n",
    "           'finance', 'financial advice', 'free investment', 'investment decision', 'invoice', 'million',\n",
    "           'potential earnings', 'nominated bank account', 'profit', 'stock alert', 'gift certificate', 'market',\n",
    "           'member', 'off everything', 'offer extended', 'optimization', 'stop further distribution', \n",
    "           'super promo', 'the following form', 'this is not junk', 'top urgent', 'web traffic', 'free hosting',\n",
    "           'home based business', 'home employment', 'work from home', '@public', 'hello@', 'mail@', '!!', 'mlm',\n",
    "           'cards accepted', 'for free?', 'money-back guarantee', 'more info', 'onetime mail', '$$', '18+', 'xxx',\n",
    "           'adult en', 'adults', 'be 18', 'over 18', 'over 21', '99.9%', 'amazing stuff', 'auto', 'judgments',\n",
    "           'credit bureaus', 'consolidate debt and credit', 'confidentially on all orders', 'hesitate', 'hurry up',\n",
    "           'increase your chances', 'if only it were that easy', 'in accordance with laws', 'instant earnings',\n",
    "           'it is effective', 'laser printer', 'free iphone', 'lose weight spam', 'meet singles', 'meet girls', \n",
    "           'meet me', 'never before', 'new domain extensions', 'no catch', 'no deposit required', 'number 1', 'ip',\n",
    "           'not intended', 'offshore', 'expiration date', 'one hundred percent free', 'online biz', 'pure profits',\n",
    "           'print out and fax', 'reverses', 'see for yourself', 'safeguard', 'stop emailing me', 'subscribe now',\n",
    "           'subscribe for free', 'take action now', 'terms and conditions', 'talks about hidden charges', 'reminder',\n",
    "           'time limited', 'unsecured credit', 'undisclosed recipient', 'university diplomas', 'vip', 'vicodin',\n",
    "           'wants credit card', 'warranty expired', 'we honor all', 'website visitors', 'weekend getaway', 'right',\n",
    "           'husband', 'while available', 'what is keeping you', 'why pay more?', 'what are you waiting for?', 'zero',\n",
    "           'zero chance', 'zero percent', 'zero risk', 'your chance', 'your status', 'do it now or', 'stop now', \n",
    "           'dear friend', 'be amazed', 'double your profit', 'not expensive', 'deadline', 'obligation', 'safe', 'gain',\n",
    "           'pre-order', 'take our survey', 'learn more', 'read more', 'contact us', 'schedule an appointment', \n",
    "           're:', 'fwd:', '%', '#', 'explode your business', 'join billions', 'great offer', 'high pay', 'watch this',\n",
    "           'last opportunity', 'certified', 'cost', 'compare', 'form', 'leave', 'request', 'serious', 'weight', 'phone',\n",
    "           'f r e e', 'hidden assets', 'one hundred percent free', 'pennies a day', 'refinance', 'subject to credit', \n",
    "           'unsecured debt', 'acceptance', 'month trial offer', 'more internet traffic', 'one time mailing', 'notspam']\n",
    "\n",
    "my_model = LogisticRegression(C=2)\n",
    "\n",
    "X_train = words_in_texts(my_words, train['email'])\n",
    "# X_train = pd.DataFrame(X_train)\n",
    "# X_train['non charater'] = find_cap_length(train)\n",
    "Y_train = train['spam']\n",
    "\n",
    "my_model.fit(X_train, Y_train)\n",
    "\n",
    "training_acc = my_model.score(X_train, Y_train)\n",
    "print(training_acc)\n",
    "\n",
    "X_val = words_in_texts(my_words, val['email'])\n",
    "# X_val = pd.DataFrame(X_val)\n",
    "# X_val['non character'] = find_cap_length(val)\n",
    "Y_val = val['spam']\n",
    "\n",
    "val_acc = my_model.score(X_val, Y_val)\n",
    "print(val_acc)"
   ]
  },
  {
   "cell_type": "markdown",
   "metadata": {
    "deletable": false,
    "editable": false
   },
   "source": [
    "### Question 7: Feature/Model Selection Process\n",
    "\n",
    "In the following cell, describe the process of improving your model. You should use at least 2-3 sentences each to address the follow questions:\n",
    "\n",
    "1. How did you find better features for your model?\n",
    "2. What did you try that worked / didn't work?\n",
    "3. What was surprising in your search for good features?\n",
    "\n",
    "<!--\n",
    "BEGIN QUESTION\n",
    "name: q7\n",
    "manual: True\n",
    "points: 6\n",
    "-->\n",
    "<!-- EXPORT TO PDF -->"
   ]
  },
  {
   "cell_type": "markdown",
   "metadata": {},
   "source": [
    "1. I found better features for my model by listing possible features out and plotting them. Then, I compared which ones would be a better fit. Some words would appear more in ham emails than spams. The words that was the most common in every email would be a really good feature to have.\n",
    "2. Many features did not work. As I plotted each and compared the distribution of them in ham emails and spam emails, I found some features worked significantly better than others. Bad features would have a low bar and we could not receive any information from that feature (probably because it did not appear in most emails). It surprised me that common words such as \"you\" did not help distinguish the ham/spam emails. Instead, I tried to find words that were more commonly used, such as \"html\", which would be common due to the tags.\n",
    "3. Some things that were surprising to me in my search for good features were that 'from' was used so much, even more than 'html' which was used also for tags. Though it is a good word to use, I did not think it would be that common. Furthermore, 'money' was also utilized a good amount, which is weird because it is not that common of a word unless one is talking solely about financial plans. "
   ]
  },
  {
   "cell_type": "markdown",
   "metadata": {},
   "source": [
    "### Question 8: EDA\n",
    "\n",
    "In the cell below, show a visualization that you used to select features for your model. Include\n",
    "\n",
    "1. A plot showing something meaningful about the data that helped you during feature selection, model selection, or both.\n",
    "2. Two or three sentences describing what you plotted and its implications with respect to your features.\n",
    "\n",
    "Feel to create as many plots as you want in your process of feature selection, but select one for the response cell below.\n",
    "\n",
    "**You should not just produce an identical visualization to question 3.** Specifically, don't show us a bar chart of proportions, or a one-dimensional class-conditional density plot. Any other plot is acceptable, as long as it comes with thoughtful commentary. Here are some ideas:\n",
    "\n",
    "1. Consider the correlation between multiple features (look up correlation plots and `sns.heatmap`). \n",
    "1. Try to show redundancy in a group of features (e.g. `body` and `html` might co-occur relatively frequently, or you might be able to design a feature that captures all html tags and compare it to these). \n",
    "1. Visualize which words have high or low values for some useful statistic.\n",
    "1. Visually depict whether spam emails tend to be wordier (in some sense) than ham emails."
   ]
  },
  {
   "cell_type": "markdown",
   "metadata": {
    "deletable": false,
    "editable": false
   },
   "source": [
    "Generate your visualization in the cell below and provide your description in a comment.\n",
    "\n",
    "<!--\n",
    "BEGIN QUESTION\n",
    "name: q8\n",
    "manual: True\n",
    "format: image\n",
    "points: 6\n",
    "-->\n",
    "<!-- EXPORT TO PDF format:image -->"
   ]
  },
  {
   "cell_type": "code",
   "execution_count": 17,
   "metadata": {},
   "outputs": [
    {
     "data": {
      "text/plain": [
       "[<matplotlib.lines.Line2D at 0x7fc98b568810>]"
      ]
     },
     "execution_count": 17,
     "metadata": {},
     "output_type": "execute_result"
    },
    {
     "data": {
      "image/png": "[encoded data removed]",
      "text/plain": [
       "<Figure size 2520x2520 with 1 Axes>"
      ]
     },
     "metadata": {
      "needs_background": "light"
     },
     "output_type": "display_data"
    }
   ],
   "source": [
    "# Write your description (2-3 sentences) as a comment here:\n",
    "# I want to find the top 10 most common words found in spam and ham emails\n",
    "# Since I had a list of common spam words above, I wanted to test this out!\n",
    "# As a result, it looks like 'your' and 'you' are a few of the most common \n",
    "# words that we can use to distinguish between ham/spam emails.\n",
    "# This was a really good experience, as I was able to learn how to manipulate\n",
    "# the data to do what I wanted after creating a new dataframe.\n",
    "\n",
    "# Write the code to generate your visualization here:\n",
    "\n",
    "import re\n",
    "\n",
    "def get_words(s, brackets):\n",
    "    mywords = s.split()\n",
    "    regex = '\\W+'\n",
    "    mywords = [re.sub(regex, '', i) for i in mywords]\n",
    "    for i in mywords:\n",
    "        if i:\n",
    "            if i not in brackets:\n",
    "                brackets[i] = 0\n",
    "            brackets[i] += 1\n",
    "\n",
    "spam = train[train[\"spam\"] == 1]\n",
    "ham = train[train[\"spam\"] == 0]\n",
    "\n",
    "spams = {}\n",
    "hams = {}\n",
    "\n",
    "s = spam[\"email\"].map(lambda a: get_words(a, spams))\n",
    "h = ham[\"email\"].map(lambda a: get_words(a, hams))\n",
    "\n",
    "spam_set = set(spams.keys())\n",
    "ham_set = set(hams.keys())\n",
    "common = list(spam_set.union(ham_set))\n",
    "\n",
    "def find_num(x):\n",
    "    return [0 if (c not in x) else x[c]/len(x) for c in common]\n",
    "\n",
    "spam_num = find_num(spams)\n",
    "ham_num = find_num(hams)\n",
    "\n",
    "df = pd.DataFrame({\"common word\": common,\"spam_num\": spam_num,\"ham_num\": ham_num})\n",
    "\n",
    "df[\"difference\"] = df[\"spam_num\"] - df[\"ham_num\"]\n",
    "\n",
    "df.sort_values(by=[\"difference\"], inplace=True, ascending=False)\n",
    "\n",
    "df = df.set_index(\"common word\")\n",
    "\n",
    "top10 = df[\"difference\"].head(10)\n",
    "\n",
    "plt.figure(figsize=(35,35))\n",
    "\n",
    "plt.plot(top10)\n",
    "\n",
    "# Note: if your plot doesn't appear in the PDF, you should try uncommenting the following line:\n",
    "# plt.show()"
   ]
  },
  {
   "cell_type": "markdown",
   "metadata": {
    "deletable": false,
    "editable": false
   },
   "source": [
    "# Question 9: Submitting to Kaggle\n",
    "\n",
    "The following code will write your predictions on the test dataset to a CSV, which you can submit to Kaggle. You may need to modify it to suit your needs.\n",
    "\n",
    "Save your predictions in a 1-dimensional array called `test_predictions`. *Even if you are not submitting to Kaggle, please make sure you've saved your predictions to `test_predictions` as this is how your score for this question will be determined.*\n",
    "\n",
    "Remember that if you've performed transformations or featurization on the training data, you must also perform the same transformations on the test data in order to make predictions. For example, if you've created features for the words \"drug\" and \"money\" on the training data, you must also extract the same features in order to use scikit-learn's `.predict(...)` method.\n",
    "\n",
    "You should submit your CSV files to https://www.kaggle.com/t/c76d80f7d3204159865a324ec2936f18\n",
    "\n",
    "**Note: You may submit up to 4 times a day. If you have submitted 4 times on a day, you will need to wait until the next day for more submissions.**\n",
    "\n",
    "Note that this question is graded on an absolute scale based on the accuracy your model achieves on the test set and the score does not depend on your ranking on Kaggle. \n",
    "\n",
    "*The provided tests check that your predictions are in the correct format, but you must submit to Kaggle to evaluate your classifier accuracy.*\n",
    "\n",
    "<!--\n",
    "BEGIN QUESTION\n",
    "name: q9\n",
    "points: 15\n",
    "-->"
   ]
  },
  {
   "cell_type": "code",
   "execution_count": 18,
   "metadata": {},
   "outputs": [
    {
     "data": {
      "text/plain": [
       "array([0, 1, 0, 0, 0, 0, 1, 0, 0, 0, 1, 0, 0, 0, 0, 0, 1, 0, 0, 0, 0, 1,\n",
       "       0, 0, 0, 0, 0, 1, 1, 0, 0, 0, 0, 1, 0, 0, 0, 0, 0, 0, 0, 0, 0, 0,\n",
       "       0, 0, 0, 0, 1, 0, 0, 0, 0, 0, 0, 0, 0, 0, 0, 1, 1, 0, 1, 1, 0, 1,\n",
       "       0, 0, 1, 0, 0, 0, 0, 0, 0, 1, 0, 0, 0, 0, 0, 1, 0, 0, 0, 1, 1, 0,\n",
       "       0, 0, 0, 0, 0, 0, 1, 0, 0, 1, 1, 1, 0, 0, 0, 0, 0, 0, 0, 0, 0, 0,\n",
       "       0, 0, 0, 0, 1, 0, 1, 0, 1, 1, 0, 0, 0, 0, 0, 0, 0, 0, 0, 0, 0, 0,\n",
       "       0, 0, 0, 1, 0, 1, 0, 0, 1, 0, 0, 0, 0, 0, 0, 0, 0, 0, 0, 0, 0, 0,\n",
       "       1, 0, 0, 0, 0, 0, 0, 0, 1, 0, 0, 1, 0, 1, 0, 0, 0, 0, 0, 1, 0, 0,\n",
       "       0, 0, 0, 0, 1, 0, 0, 0, 1, 0, 1, 0, 0, 0, 1, 0, 0, 0, 1, 0, 0, 1,\n",
       "       0, 0, 0, 0, 1, 0, 0, 0, 0, 0, 0, 0, 0, 0, 0, 0, 1, 1, 0, 0, 1, 0,\n",
       "       0, 1, 0, 0, 1, 0, 0, 0, 0, 1, 0, 0, 0, 0, 0, 0, 0, 0, 1, 0, 0, 0,\n",
       "       1, 1, 0, 0, 0, 0, 0, 1, 0, 0, 0, 1, 0, 1, 0, 1, 0, 0, 0, 0, 1, 1,\n",
       "       0, 0, 0, 0, 0, 0, 0, 0, 0, 0, 0, 1, 0, 0, 0, 0, 0, 0, 0, 0, 0, 0,\n",
       "       0, 1, 0, 0, 0, 0, 0, 0, 1, 0, 0, 1, 0, 1, 1, 1, 0, 0, 0, 0, 0, 0,\n",
       "       1, 0, 0, 0, 0, 0, 1, 0, 0, 0, 0, 0, 0, 0, 0, 0, 0, 0, 0, 0, 0, 0,\n",
       "       0, 1, 0, 0, 1, 0, 0, 0, 0, 1, 0, 0, 0, 0, 1, 0, 1, 0, 0, 0, 1, 0,\n",
       "       0, 0, 0, 0, 0, 1, 1, 0, 0, 0, 0, 0, 1, 0, 0, 0, 0, 0, 0, 1, 0, 0,\n",
       "       0, 1, 0, 0, 1, 1, 0, 0, 0, 0, 1, 0, 0, 0, 1, 0, 1, 0, 0, 1, 0, 0,\n",
       "       1, 1, 0, 0, 0, 0, 1, 0, 0, 0, 0, 0, 1, 0, 0, 1, 0, 0, 0, 1, 0, 0,\n",
       "       1, 1, 0, 0, 0, 0, 0, 1, 0, 0, 0, 1, 0, 1, 1, 0, 0, 1, 0, 1, 0, 0,\n",
       "       1, 0, 1, 0, 0, 0, 0, 0, 0, 0, 0, 0, 0, 0, 0, 0, 0, 0, 1, 0, 0, 0,\n",
       "       0, 0, 1, 0, 0, 0, 0, 0, 1, 0, 0, 0, 0, 0, 0, 1, 0, 0, 1, 1, 1, 1,\n",
       "       1, 0, 0, 0, 0, 1, 0, 0, 0, 0, 1, 0, 0, 1, 0, 0, 0, 1, 0, 0, 1, 0,\n",
       "       0, 0, 0, 1, 0, 0, 0, 0, 1, 0, 0, 0, 0, 0, 1, 1, 0, 0, 0, 0, 0, 0,\n",
       "       1, 1, 0, 1, 1, 0, 0, 1, 0, 0, 0, 0, 0, 0, 0, 1, 0, 0, 0, 0, 0, 0,\n",
       "       0, 0, 0, 0, 0, 1, 1, 0, 1, 1, 0, 0, 1, 0, 0, 0, 0, 1, 0, 0, 0, 0,\n",
       "       0, 0, 0, 1, 0, 0, 0, 1, 0, 0, 0, 0, 0, 0, 0, 0, 0, 0, 0, 0, 0, 0,\n",
       "       0, 0, 1, 0, 0, 0, 0, 0, 0, 0, 0, 0, 0, 0, 1, 0, 0, 0, 0, 1, 1, 0,\n",
       "       0, 0, 1, 0, 0, 0, 1, 0, 0, 0, 0, 1, 0, 0, 0, 1, 1, 0, 0, 1, 0, 1,\n",
       "       0, 0, 0, 1, 1, 1, 0, 1, 0, 0, 0, 0, 0, 0, 0, 0, 0, 0, 0, 0, 0, 0,\n",
       "       0, 0, 0, 0, 0, 0, 0, 0, 0, 1, 0, 0, 0, 1, 0, 0, 1, 1, 0, 0, 0, 0,\n",
       "       0, 0, 1, 1, 1, 1, 0, 0, 0, 1, 0, 0, 0, 1, 0, 0, 0, 0, 0, 0, 0, 0,\n",
       "       1, 0, 1, 0, 0, 1, 0, 0, 0, 0, 0, 0, 0, 0, 1, 0, 0, 0, 0, 1, 1, 1,\n",
       "       0, 1, 1, 1, 0, 1, 0, 0, 0, 0, 1, 0, 0, 0, 0, 0, 1, 0, 0, 0, 0, 0,\n",
       "       0, 0, 0, 0, 0, 1, 0, 0, 0, 0, 0, 0, 0, 1, 0, 1, 0, 0, 0, 0, 0, 0,\n",
       "       0, 0, 0, 1, 1, 0, 0, 0, 0, 1, 1, 0, 0, 0, 0, 1, 1, 0, 0, 1, 0, 0,\n",
       "       0, 0, 1, 0, 0, 0, 1, 0, 0, 1, 0, 0, 0, 0, 1, 0, 0, 1, 0, 0, 0, 1,\n",
       "       0, 0, 1, 0, 0, 0, 0, 0, 0, 0, 0, 0, 0, 1, 0, 1, 0, 0, 0, 0, 0, 0,\n",
       "       1, 0, 0, 0, 0, 0, 0, 0, 0, 0, 0, 0, 0, 0, 0, 0, 1, 1, 0, 0, 0, 0,\n",
       "       0, 0, 0, 0, 0, 0, 0, 0, 0, 0, 0, 0, 0, 0, 1, 0, 0, 0, 1, 1, 0, 0,\n",
       "       1, 0, 1, 1, 0, 0, 0, 0, 0, 1, 0, 1, 1, 0, 0, 1, 0, 1, 0, 1, 0, 1,\n",
       "       0, 1, 0, 0, 0, 0, 0, 0, 0, 0, 0, 0, 0, 0, 0, 1, 0, 0, 0, 1, 0, 0,\n",
       "       0, 0, 0, 1, 0, 1, 1, 0, 1, 0, 0, 0, 1, 0, 0, 0, 0, 0, 0, 1, 0, 0,\n",
       "       1, 0, 0, 0, 1, 0, 0, 0, 0, 1, 0, 1, 1, 1, 0, 1, 0, 0, 0, 0, 1, 0,\n",
       "       0, 0, 0, 0, 1, 0, 0, 1, 0, 1, 1, 0, 0, 0, 0, 0, 0, 0, 0, 0, 0, 0,\n",
       "       1, 0, 0, 0, 0, 0, 0, 0, 0, 1])"
      ]
     },
     "execution_count": 18,
     "metadata": {},
     "output_type": "execute_result"
    }
   ],
   "source": [
    "test_predictions = my_model.predict(words_in_texts(my_words, test['email']))\n",
    "test_predictions"
   ]
  },
  {
   "cell_type": "code",
   "execution_count": 19,
   "metadata": {
    "deletable": false,
    "editable": false
   },
   "outputs": [
    {
     "name": "stdout",
     "output_type": "stream",
     "text": [
      "~~~~~~~~~~~~~~~~~~~~~~~~~~~~~~~~~~~~~~~~~~~~~~~~~~~~~~~~~~~~~~~~~~~~~\n",
      "Running tests\n",
      "\n",
      "---------------------------------------------------------------------\n",
      "Test summary\n",
      "    Passed: 3\n",
      "    Failed: 0\n",
      "[ooooooooook] 100.0% passed\n",
      "\n"
     ]
    }
   ],
   "source": [
    "ok.grade(\"q9\");"
   ]
  },
  {
   "cell_type": "markdown",
   "metadata": {},
   "source": [
    "The following saves a file to submit to Kaggle."
   ]
  },
  {
   "cell_type": "code",
   "execution_count": 20,
   "metadata": {},
   "outputs": [
    {
     "name": "stdout",
     "output_type": "stream",
     "text": [
      "Created a CSV file: submission_2020-04-27T13:26:07.csv.\n",
      "You may now upload this CSV file to Kaggle for scoring.\n"
     ]
    }
   ],
   "source": [
    "from datetime import datetime\n",
    "\n",
    "# Assuming that your predictions on the test set are stored in a 1-dimensional array called\n",
    "# test_predictions. Feel free to modify this cell as long you create a CSV in the right format.\n",
    "\n",
    "# Construct and save the submission:\n",
    "submission_df = pd.DataFrame({\n",
    "    \"Id\": test['id'], \n",
    "    \"Class\": test_predictions,\n",
    "}, columns=['Id', 'Class'])\n",
    "timestamp = datetime.isoformat(datetime.now()).split(\".\")[0]\n",
    "submission_df.to_csv(\"submission_{}.csv\".format(timestamp), index=False)\n",
    "\n",
    "print('Created a CSV file: {}.'.format(\"submission_{}.csv\".format(timestamp)))\n",
    "print('You may now upload this CSV file to Kaggle for scoring.')"
   ]
  },
  {
   "cell_type": "markdown",
   "metadata": {
    "deletable": false,
    "editable": false
   },
   "source": [
    "# Submit\n",
    "Make sure you have run all cells in your notebook in order before running the cell below, so that all images/graphs appear in the output.\n",
    "**Please save before submitting!**\n",
    "\n",
    "<!-- EXPECT 5 EXPORTED QUESTIONS -->"
   ]
  },
  {
   "cell_type": "code",
   "execution_count": null,
   "metadata": {
    "deletable": false,
    "editable": false
   },
   "outputs": [
    {
     "name": "stdout",
     "output_type": "stream",
     "text": [
      "Generating PDF...\n",
      "Saved proj2b.pdf\n"
     ]
    }
   ],
   "source": [
    "# Save your notebook first, then run this cell to submit.\n",
    "import jassign.to_pdf\n",
    "jassign.to_pdf.generate_pdf('proj2b.ipynb', 'proj2b.pdf')\n",
    "ok.submit()"
   ]
  }
 ],
 "metadata": {
  "kernelspec": {
   "display_name": "Python 3",
   "language": "python",
   "name": "python3"
  },
  "language_info": {
   "codemirror_mode": {
    "name": "ipython",
    "version": 3
   },
   "file_extension": ".py",
   "mimetype": "text/x-python",
   "name": "python",
   "nbconvert_exporter": "python",
   "pygments_lexer": "ipython3",
   "version": "3.7.6"
  }
 },
 "nbformat": 4,
 "nbformat_minor": 4
}
